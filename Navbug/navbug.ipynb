{
 "cells": [
  {
   "cell_type": "code",
   "execution_count": 1,
   "metadata": {},
   "outputs": [],
   "source": [
    "import pandas as pd\n",
    "import requests\n",
    "from bs4 import BeautifulSoup"
   ]
  },
  {
   "cell_type": "code",
   "execution_count": 2,
   "metadata": {},
   "outputs": [
    {
     "data": {
      "text/plain": [
       "200"
      ]
     },
     "execution_count": 2,
     "metadata": {},
     "output_type": "execute_result"
    }
   ],
   "source": [
    "url = \"https://www.navbug.com/massachusetts/medford_traffic.htm\"\n",
    "res=requests.get(url)\n",
    "res.status_code"
   ]
  },
  {
   "cell_type": "code",
   "execution_count": 109,
   "metadata": {},
   "outputs": [],
   "source": [
    "soup=BeautifulSoup(res.content, 'lxml')"
   ]
  },
  {
   "cell_type": "code",
   "execution_count": 110,
   "metadata": {},
   "outputs": [],
   "source": [
    "table=soup.find_all('table',{'class':'listarticle'})"
   ]
  },
  {
   "cell_type": "markdown",
   "metadata": {},
   "source": [
    "### first way solution:"
   ]
  },
  {
   "cell_type": "code",
   "execution_count": 119,
   "metadata": {},
   "outputs": [
    {
     "ename": "AttributeError",
     "evalue": "'NoneType' object has no attribute 'text'",
     "output_type": "error",
     "traceback": [
      "\u001b[0;31m---------------------------------------------------------------------------\u001b[0m",
      "\u001b[0;31mAttributeError\u001b[0m                            Traceback (most recent call last)",
      "\u001b[0;32m<ipython-input-119-c9d61152a546>\u001b[0m in \u001b[0;36m<module>\u001b[0;34m\u001b[0m\n\u001b[1;32m      5\u001b[0m     \u001b[0mtitle\u001b[0m\u001b[0;34m=\u001b[0m\u001b[0mi\u001b[0m\u001b[0;34m.\u001b[0m\u001b[0mfind\u001b[0m\u001b[0;34m(\u001b[0m\u001b[0;34m'span'\u001b[0m\u001b[0;34m,\u001b[0m \u001b[0;34m{\u001b[0m\u001b[0;34m'class'\u001b[0m\u001b[0;34m:\u001b[0m\u001b[0;34m'listarticle_title'\u001b[0m\u001b[0;34m}\u001b[0m\u001b[0;34m)\u001b[0m\u001b[0;34m.\u001b[0m\u001b[0mtext\u001b[0m\u001b[0;34m\u001b[0m\u001b[0m\n\u001b[1;32m      6\u001b[0m     \u001b[0mlink\u001b[0m\u001b[0;34m=\u001b[0m\u001b[0mi\u001b[0m\u001b[0;34m.\u001b[0m\u001b[0mfind\u001b[0m\u001b[0;34m(\u001b[0m\u001b[0;34m'span'\u001b[0m\u001b[0;34m,\u001b[0m \u001b[0;34m{\u001b[0m\u001b[0;34m'class'\u001b[0m\u001b[0;34m:\u001b[0m\u001b[0;34m'listarticle_title'\u001b[0m\u001b[0;34m}\u001b[0m\u001b[0;34m)\u001b[0m\u001b[0;34m.\u001b[0m\u001b[0mfind\u001b[0m\u001b[0;34m(\u001b[0m\u001b[0;34m'a'\u001b[0m\u001b[0;34m)\u001b[0m\u001b[0;34m.\u001b[0m\u001b[0mattrs\u001b[0m\u001b[0;34m[\u001b[0m\u001b[0;34m'href'\u001b[0m\u001b[0;34m]\u001b[0m\u001b[0;34m\u001b[0m\u001b[0m\n\u001b[0;32m----> 7\u001b[0;31m     \u001b[0mtype_\u001b[0m\u001b[0;34m=\u001b[0m\u001b[0mi\u001b[0m\u001b[0;34m.\u001b[0m\u001b[0mfind\u001b[0m\u001b[0;34m(\u001b[0m\u001b[0;34m'div'\u001b[0m\u001b[0;34m,\u001b[0m \u001b[0;34m{\u001b[0m\u001b[0;34m'class'\u001b[0m\u001b[0;34m:\u001b[0m\u001b[0;34m'listarticle_subtitles'\u001b[0m\u001b[0;34m}\u001b[0m\u001b[0;34m)\u001b[0m\u001b[0;34m.\u001b[0m\u001b[0mtext\u001b[0m \u001b[0;31m#this line couldnt be iterated while 'title'\u001b[0m\u001b[0;34m\u001b[0m\u001b[0m\n\u001b[0m\u001b[1;32m      8\u001b[0m \u001b[0;31m# could be iterated which is same level element of the table!\u001b[0m\u001b[0;34m\u001b[0m\u001b[0;34m\u001b[0m\u001b[0m\n\u001b[1;32m      9\u001b[0m \u001b[0;34m\u001b[0m\u001b[0m\n",
      "\u001b[0;31mAttributeError\u001b[0m: 'NoneType' object has no attribute 'text'"
     ]
    }
   ],
   "source": [
    "list_=[]\n",
    "\n",
    "for i in table: # loop for all news\n",
    "    bos={}\n",
    "    title=i.find('span', {'class':'listarticle_title'}).text\n",
    "    link=i.find('span', {'class':'listarticle_title'}).find('a').attrs['href']\n",
    "    type_=i.find('div', {'class':'listarticle_subtitles'}).text #this line couldnt be iterated while 'title' \n",
    "# could be iterated which is same level element of the table! \n",
    "\n",
    "\n",
    "    bos['title']=title\n",
    "    bos['link']=link\n",
    "    bos['type']=type_\n",
    "    list_.append(bos)\n",
    "\n",
    "df=pd.DataFrame(list_)"
   ]
  },
  {
   "cell_type": "markdown",
   "metadata": {},
   "source": [
    "### second way solution:"
   ]
  },
  {
   "cell_type": "code",
   "execution_count": 116,
   "metadata": {},
   "outputs": [],
   "source": [
    "list_=[]\n",
    "\n",
    "for i,value in enumerate(table):\n",
    "    bos={}\n",
    "    title=value.find('span', {'class':'listarticle_title'}).text\n",
    "    link=value.find('span', {'class':'listarticle_title'}).find('a').attrs['href']\n",
    "    type_=table[3].find('div', {'class':'listarticle_subtitles'}).text # table[i] should work bu very interestingly\n",
    "#     this line couldnt be iterated while 'title' could be iterated which is same level element of the table! \n",
    "\n",
    "    bos['title']=title\n",
    "    bos['link']=link\n",
    "    bos['type']=type_\n",
    "    list_.append(bos)\n",
    "\n",
    "df=pd.DataFrame(list_)"
   ]
  },
  {
   "cell_type": "code",
   "execution_count": 117,
   "metadata": {},
   "outputs": [
    {
     "data": {
      "text/html": [
       "<div>\n",
       "<style scoped>\n",
       "    .dataframe tbody tr th:only-of-type {\n",
       "        vertical-align: middle;\n",
       "    }\n",
       "\n",
       "    .dataframe tbody tr th {\n",
       "        vertical-align: top;\n",
       "    }\n",
       "\n",
       "    .dataframe thead th {\n",
       "        text-align: right;\n",
       "    }\n",
       "</style>\n",
       "<table border=\"1\" class=\"dataframe\">\n",
       "  <thead>\n",
       "    <tr style=\"text-align: right;\">\n",
       "      <th></th>\n",
       "      <th>link</th>\n",
       "      <th>title</th>\n",
       "      <th>type</th>\n",
       "    </tr>\n",
       "  </thead>\n",
       "  <tbody>\n",
       "    <tr>\n",
       "      <th>0</th>\n",
       "      <td>https://www.navbug.com/incident122229282915748...</td>\n",
       "      <td>At RT-28/Fellsway - Construction work.(...)</td>\n",
       "      <td>TYPE: Construction | Serious  | Road Closed</td>\n",
       "    </tr>\n",
       "    <tr>\n",
       "      <th>1</th>\n",
       "      <td>https://www.navbug.com/incident456724851611271...</td>\n",
       "      <td>At I-93 - Construction work.(...)</td>\n",
       "      <td>TYPE: Construction | Serious  | Road Closed</td>\n",
       "    </tr>\n",
       "    <tr>\n",
       "      <th>2</th>\n",
       "      <td>https://www.navbug.com/incident227840310990574...</td>\n",
       "      <td>Closed at Broadway/Dexter St - Closed due to r...</td>\n",
       "      <td>TYPE: Construction | Serious  | Road Closed</td>\n",
       "    </tr>\n",
       "    <tr>\n",
       "      <th>3</th>\n",
       "      <td>https://www.navbug.com/incident634238943968781...</td>\n",
       "      <td>Closed at Boston Ave - Closed due to roadwork....</td>\n",
       "      <td>TYPE: Construction | Serious  | Road Closed</td>\n",
       "    </tr>\n",
       "    <tr>\n",
       "      <th>4</th>\n",
       "      <td>https://www.navbug.com/incident226069393815107...</td>\n",
       "      <td>At RT-28/NB Exit 29/SB Exit 28 - Queuing traff...</td>\n",
       "      <td>TYPE: Construction | Serious  | Road Closed</td>\n",
       "    </tr>\n",
       "  </tbody>\n",
       "</table>\n",
       "</div>"
      ],
      "text/plain": [
       "                                                link  \\\n",
       "0  https://www.navbug.com/incident122229282915748...   \n",
       "1  https://www.navbug.com/incident456724851611271...   \n",
       "2  https://www.navbug.com/incident227840310990574...   \n",
       "3  https://www.navbug.com/incident634238943968781...   \n",
       "4  https://www.navbug.com/incident226069393815107...   \n",
       "\n",
       "                                               title  \\\n",
       "0        At RT-28/Fellsway - Construction work.(...)   \n",
       "1                  At I-93 - Construction work.(...)   \n",
       "2  Closed at Broadway/Dexter St - Closed due to r...   \n",
       "3  Closed at Boston Ave - Closed due to roadwork....   \n",
       "4  At RT-28/NB Exit 29/SB Exit 28 - Queuing traff...   \n",
       "\n",
       "                                           type  \n",
       "0  TYPE: Construction | Serious  | Road Closed   \n",
       "1  TYPE: Construction | Serious  | Road Closed   \n",
       "2  TYPE: Construction | Serious  | Road Closed   \n",
       "3  TYPE: Construction | Serious  | Road Closed   \n",
       "4  TYPE: Construction | Serious  | Road Closed   "
      ]
     },
     "execution_count": 117,
     "metadata": {},
     "output_type": "execute_result"
    }
   ],
   "source": [
    "df.head()"
   ]
  },
  {
   "cell_type": "code",
   "execution_count": 175,
   "metadata": {},
   "outputs": [],
   "source": [
    "# df.to_csv('./News_Update.csv')"
   ]
  },
  {
   "cell_type": "code",
   "execution_count": 118,
   "metadata": {},
   "outputs": [
    {
     "data": {
      "text/plain": [
       "'TYPE: Construction | Minor  '"
      ]
     },
     "execution_count": 118,
     "metadata": {},
     "output_type": "execute_result"
    }
   ],
   "source": [
    "test = table[0]\n",
    "test.find('div', {'class':'listarticle_subtitles'}).text"
   ]
  },
  {
   "cell_type": "code",
   "execution_count": null,
   "metadata": {},
   "outputs": [],
   "source": []
  }
 ],
 "metadata": {
  "kernelspec": {
   "display_name": "Python 3",
   "language": "python",
   "name": "python3"
  },
  "language_info": {
   "codemirror_mode": {
    "name": "ipython",
    "version": 3
   },
   "file_extension": ".py",
   "mimetype": "text/x-python",
   "name": "python",
   "nbconvert_exporter": "python",
   "pygments_lexer": "ipython3",
   "version": "3.6.5"
  }
 },
 "nbformat": 4,
 "nbformat_minor": 2
}
