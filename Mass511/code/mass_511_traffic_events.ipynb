{
 "cells": [
  {
   "cell_type": "code",
   "execution_count": 1,
   "metadata": {},
   "outputs": [],
   "source": [
    "import pandas as pd\n",
    "import requests\n",
    "from bs4 import BeautifulSoup"
   ]
  },
  {
   "cell_type": "code",
   "execution_count": 15,
   "metadata": {},
   "outputs": [
    {
     "data": {
      "text/plain": [
       "200"
      ]
     },
     "execution_count": 15,
     "metadata": {},
     "output_type": "execute_result"
    }
   ],
   "source": [
    "url = \"https://mass511.com/list/events/traffic?start=0&length=1000&order%5Bi%5D=2&order%5Bdir%5D=asc\"\n",
    "res=requests.get(url)\n",
    "res.status_code"
   ]
  },
  {
   "cell_type": "code",
   "execution_count": 16,
   "metadata": {},
   "outputs": [],
   "source": [
    "soup=BeautifulSoup(res.content, 'lxml')"
   ]
  },
  {
   "cell_type": "code",
   "execution_count": 17,
   "metadata": {},
   "outputs": [],
   "source": [
    "soup.find('tr').decompose()"
   ]
  },
  {
   "cell_type": "code",
   "execution_count": 18,
   "metadata": {},
   "outputs": [
    {
     "data": {
      "text/plain": [
       "[<table cellspacing=\"0\" class=\"display compact\" data-typeidfriendlyurl=\"traffic\" id=\"eventTable\" title=\"traffic\" width=\"100%\">\n",
       " <caption>\"traffic\"</caption>\n",
       " <thead>\n",
       " \n",
       " </thead>\n",
       " <tfoot>\n",
       " <tr>\n",
       " <th scope=\"col\">Type</th>\n",
       " <th scope=\"col\">Roadway</th>\n",
       " <th scope=\"col\">Location Description</th>\n",
       " <th scope=\"col\">Description</th>\n",
       " <th scope=\"col\">Start Time</th>\n",
       " <th scope=\"col\">Anticipated End Time</th>\n",
       " <th scope=\"col\">Last Updated</th>\n",
       " </tr>\n",
       " </tfoot>\n",
       " </table>]"
      ]
     },
     "execution_count": 18,
     "metadata": {},
     "output_type": "execute_result"
    }
   ],
   "source": [
    "x=soup.find_all('table')\n",
    "x"
   ]
  },
  {
   "cell_type": "code",
   "execution_count": 19,
   "metadata": {},
   "outputs": [
    {
     "data": {
      "text/plain": [
       "[]"
      ]
     },
     "execution_count": 19,
     "metadata": {},
     "output_type": "execute_result"
    }
   ],
   "source": [
    "body=soup.find_all({'role':'row'})\n",
    "body"
   ]
  },
  {
   "cell_type": "code",
   "execution_count": 20,
   "metadata": {
    "scrolled": false
   },
   "outputs": [
    {
     "data": {
      "text/plain": [
       "<table cellspacing=\"0\" class=\"display compact\" data-typeidfriendlyurl=\"traffic\" id=\"eventTable\" title=\"traffic\" width=\"100%\">\n",
       "<caption>\"traffic\"</caption>\n",
       "<thead>\n",
       "\n",
       "</thead>\n",
       "<tfoot>\n",
       "<tr>\n",
       "<th scope=\"col\">Type</th>\n",
       "<th scope=\"col\">Roadway</th>\n",
       "<th scope=\"col\">Location Description</th>\n",
       "<th scope=\"col\">Description</th>\n",
       "<th scope=\"col\">Start Time</th>\n",
       "<th scope=\"col\">Anticipated End Time</th>\n",
       "<th scope=\"col\">Last Updated</th>\n",
       "</tr>\n",
       "</tfoot>\n",
       "</table>"
      ]
     },
     "execution_count": 20,
     "metadata": {},
     "output_type": "execute_result"
    }
   ],
   "source": [
    "body=soup.find('table',{'id':'eventTable'})\n",
    "body"
   ]
  },
  {
   "cell_type": "code",
   "execution_count": 8,
   "metadata": {},
   "outputs": [
    {
     "data": {
      "text/plain": [
       "[<tr>\n",
       " <th scope=\"col\">Type</th>\n",
       " <th scope=\"col\">Roadway</th>\n",
       " <th scope=\"col\">Location Description</th>\n",
       " <th scope=\"col\">Description</th>\n",
       " <th scope=\"col\">Start Time</th>\n",
       " <th scope=\"col\">Anticipated End Time</th>\n",
       " <th scope=\"col\">Last Updated</th>\n",
       " </tr>]"
      ]
     },
     "execution_count": 8,
     "metadata": {},
     "output_type": "execute_result"
    }
   ],
   "source": [
    "body.find_all('tr')"
   ]
  },
  {
   "cell_type": "code",
   "execution_count": 9,
   "metadata": {},
   "outputs": [
    {
     "name": "stdout",
     "output_type": "stream",
     "text": [
      "\n",
      "\n",
      "<caption>\"traffic\"</caption>\n",
      "\n",
      "\n",
      "<thead>\n",
      "\n",
      "</thead>\n",
      "\n",
      "\n",
      "<tfoot>\n",
      "<tr>\n",
      "<th scope=\"col\">Type</th>\n",
      "<th scope=\"col\">Roadway</th>\n",
      "<th scope=\"col\">Location Description</th>\n",
      "<th scope=\"col\">Description</th>\n",
      "<th scope=\"col\">Start Time</th>\n",
      "<th scope=\"col\">Anticipated End Time</th>\n",
      "<th scope=\"col\">Last Updated</th>\n",
      "</tr>\n",
      "</tfoot>\n",
      "\n",
      "\n"
     ]
    }
   ],
   "source": [
    "for i in body:\n",
    "    print(i)"
   ]
  },
  {
   "cell_type": "code",
   "execution_count": null,
   "metadata": {},
   "outputs": [],
   "source": []
  }
 ],
 "metadata": {
  "kernelspec": {
   "display_name": "Python 3",
   "language": "python",
   "name": "python3"
  },
  "language_info": {
   "codemirror_mode": {
    "name": "ipython",
    "version": 3
   },
   "file_extension": ".py",
   "mimetype": "text/x-python",
   "name": "python",
   "nbconvert_exporter": "python",
   "pygments_lexer": "ipython3",
   "version": "3.6.5"
  }
 },
 "nbformat": 4,
 "nbformat_minor": 2
}
